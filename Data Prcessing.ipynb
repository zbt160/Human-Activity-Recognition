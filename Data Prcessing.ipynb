{
 "cells": [
  {
   "cell_type": "markdown",
   "metadata": {},
   "source": [
    "Author: Zaid Bin Tariq\n",
    "\n",
    "Date: 2/27/2022"
   ]
  },
  {
   "cell_type": "markdown",
   "metadata": {},
   "source": [
    "This notebook converts the raw data into training and testing set to be used for the neural network \n",
    "\n",
    "Data output might vary depending upon how the activity recognition problem is seen.\n",
    "\n",
    "Possibily another notebook in future might be made for different types of data splits for the human activity recognition problem"
   ]
  },
  {
   "cell_type": "code",
   "execution_count": 21,
   "metadata": {},
   "outputs": [],
   "source": [
    "import pickle,os\n",
    "import numpy as np"
   ]
  },
  {
   "cell_type": "markdown",
   "metadata": {},
   "source": [
    "First we will load the data was combined into a dictionary/lists for easy access. The following code is using the realDisp data and assumes that it was already split into a dictionary earlier"
   ]
  },
  {
   "cell_type": "code",
   "execution_count": 9,
   "metadata": {},
   "outputs": [],
   "source": [
    "path_to_data = 'D:/RPI_big/zbt/Reseach/Siamese learning/activity_recog'# Data path of the created dictionary\n",
    "dictionary_filename = \"All_data.pkl\"\n",
    "pickle_out = open(os.path.join(path_to_data,dictionary_filename),\"rb\")\n",
    "dictionary = pickle.load(pickle_out) # dictionary contains the data\n",
    "pickle_out.close()"
   ]
  },
  {
   "cell_type": "code",
   "execution_count": 25,
   "metadata": {},
   "outputs": [],
   "source": [
    "total_subjects = len(dictionary) \n",
    "total_Activities = 33\n",
    "num_source_activities =  int(np.round(0.8*total_Activities)) # number of activities used for training source network\n",
    "num_target_activities = total_Activities - num_source_activities # number of activities used for traget network"
   ]
  },
  {
   "cell_type": "code",
   "execution_count": 35,
   "metadata": {},
   "outputs": [],
   "source": [
    "src_act_array = np.random.choice(np.arange(total_Activities),size = num_source_activities,replace = False)\n",
    "trg_act_array = np.arange(total_Activities)[~np.isin(np.arange(total_Activities),src_act_array)]"
   ]
  },
  {
   "cell_type": "code",
   "execution_count": 37,
   "metadata": {},
   "outputs": [
    {
     "ename": "NameError",
     "evalue": "name 'ssd' is not defined",
     "output_type": "error",
     "traceback": [
      "\u001b[1;31m---------------------------------------------------------------------------\u001b[0m",
      "\u001b[1;31mNameError\u001b[0m                                 Traceback (most recent call last)",
      "\u001b[1;32m<ipython-input-37-20b330286682>\u001b[0m in \u001b[0;36m<module>\u001b[1;34m()\u001b[0m\n\u001b[1;32m----> 1\u001b[1;33m \u001b[0mssd\u001b[0m\u001b[1;33m\u001b[0m\u001b[1;33m\u001b[0m\u001b[0m\n\u001b[0m",
      "\u001b[1;31mNameError\u001b[0m: name 'ssd' is not defined"
     ]
    }
   ],
   "source": []
  },
  {
   "cell_type": "code",
   "execution_count": null,
   "metadata": {},
   "outputs": [],
   "source": []
  }
 ],
 "metadata": {
  "kernelspec": {
   "display_name": "tfgpu",
   "language": "python",
   "name": "tfgpu"
  },
  "language_info": {
   "codemirror_mode": {
    "name": "ipython",
    "version": 3
   },
   "file_extension": ".py",
   "mimetype": "text/x-python",
   "name": "python",
   "nbconvert_exporter": "python",
   "pygments_lexer": "ipython3",
   "version": "3.6.12"
  }
 },
 "nbformat": 4,
 "nbformat_minor": 4
}
