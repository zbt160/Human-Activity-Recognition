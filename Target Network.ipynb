{
 "cells": [
  {
   "cell_type": "code",
   "execution_count": 4,
   "metadata": {},
   "outputs": [],
   "source": [
    "import pickle,h5py,os,keras,json, os, argparse, imp\n",
    "import tensorflow as tf\n",
    "import numpy as np"
   ]
  },
  {
   "cell_type": "code",
   "execution_count": 2,
   "metadata": {},
   "outputs": [],
   "source": [
    "%load_ext autoreload\n",
    "%autoreload 2\n",
    "import utils as ut"
   ]
  },
  {
   "cell_type": "code",
   "execution_count": 3,
   "metadata": {},
   "outputs": [],
   "source": [
    "# intializations \n",
    "path_to_data = # Data path of the created dictionary\n",
    "filename = 'All_activity_instances_data.h5'"
   ]
  },
  {
   "cell_type": "code",
   "execution_count": 5,
   "metadata": {},
   "outputs": [],
   "source": [
    "# Loading the osurce and target classes\n",
    "total_Activities = 33\n",
    "pickle_out = open('source_activities.pkl',\"rb\")\n",
    "src_act_array = pickle.load(pickle_out)\n",
    "trg_act_array = np.arange(total_Activities)[~np.isin(np.arange(total_Activities),src_act_array)]"
   ]
  },
  {
   "cell_type": "code",
   "execution_count": 25,
   "metadata": {},
   "outputs": [],
   "source": [
    "activities_decribe = [\"A1: Walking\",\"A2: Jogging\",\"A3: Running\",\"A4: Jump up\",\"A5: Jump front & back\",\"A6: Jump sideways\",\"A7: Jump leg/arms open/closed\",\"A8: Jump rope\",\"A9: Trunk twist (arms outstretched)\",\"A10: Trunk twist (elbows bent)\",\"A11: Waist bends forward\",\"A12: Waist rotation\",\"A13: Waist bends (reach foot with opposite hand)\",\"A14: Reach heels backwards\",\"A15: Lateral bend (10_ to the left + 10_ to the right)\",\"A16: Lateral bend with arm up (10_ to the left + 10_ to the right)\",\"A17: Repetitive forward stretching\",\"A18: Upper trunk and lower body opposite twist\",\"A19: Lateral elevation of arms\",\"A20: Frontal elevation of arms\",\"A21: Frontal hand claps\",\"A22: Frontal crossing of arms\",\"A23: Shoulders high-amplitude rotation\",\"A24: Shoulders low-amplitude rotation\",\"A25: Arms inner rotation\",\"A26: Knees (alternating) to the breast\",\"A27: Heels (alternating) to the backside\",\"A28: Knees bending (crouching)\",\"A29: Knees (alternating) bending forward\",\"A30: Rotation on the knees\",\"A31: Rowing\",\"A32: Elliptical bike\",\"A33: Cycling\"]"
   ]
  },
  {
   "cell_type": "code",
   "execution_count": 29,
   "metadata": {},
   "outputs": [
    {
     "name": "stdout",
     "output_type": "stream",
     "text": [
      "Target Acitivities\n",
      "A12: Waist rotation\n",
      "A14: Reach heels backwards\n",
      "A16: Lateral bend with arm up (10_ to the left + 10_ to the right)\n",
      "A26: Knees (alternating) to the breast\n",
      "A27: Heels (alternating) to the backside\n",
      "A30: Rotation on the knees\n",
      "A33: Cycling\n",
      "Source Acitivities\n",
      "A20: Frontal elevation of arms\n",
      "A22: Frontal crossing of arms\n",
      "A28: Knees bending (crouching)\n",
      "A3: Running\n",
      "A15: Lateral bend (10_ to the left + 10_ to the right)\n",
      "A31: Rowing\n",
      "A19: Lateral elevation of arms\n",
      "A9: Trunk twist (arms outstretched)\n",
      "A4: Jump up\n",
      "A11: Waist bends forward\n",
      "A5: Jump front & back\n",
      "A18: Upper trunk and lower body opposite twist\n",
      "A10: Trunk twist (elbows bent)\n",
      "A2: Jogging\n",
      "A21: Frontal hand claps\n",
      "A6: Jump sideways\n",
      "A7: Jump leg/arms open/closed\n",
      "A23: Shoulders high-amplitude rotation\n",
      "A17: Repetitive forward stretching\n",
      "A24: Shoulders low-amplitude rotation\n",
      "A8: Jump rope\n",
      "A25: Arms inner rotation\n",
      "A29: Knees (alternating) bending forward\n",
      "A1: Walking\n",
      "A13: Waist bends (reach foot with opposite hand)\n",
      "A32: Elliptical bike\n"
     ]
    }
   ],
   "source": [
    "print(\"Target Acitivities\")\n",
    "for i in range(trg_act_array.shape[0]):\n",
    "    print(activities_decribe[trg_act_array[i]])\n",
    "print(\"Source Acitivities\")\n",
    "for i in range(src_act_array.shape[0]):\n",
    "    print(activities_decribe[src_act_array[i]])"
   ]
  },
  {
   "cell_type": "markdown",
   "metadata": {},
   "source": [
    "Loading the target supp and test indices"
   ]
  },
  {
   "cell_type": "code",
   "execution_count": 6,
   "metadata": {},
   "outputs": [],
   "source": [
    "pickle_out = open('Indices_trg_Test_supp.pkl',\"rb\")\n",
    "temp = pickle.load(pickle_out) # indices of validation and test set\n",
    "pickle_out.close()\n",
    "indices_array_test,indices_array_supp,new_labels_test,new_labels_supp = temp[0],temp[1],temp[2],temp[3]"
   ]
  },
  {
   "cell_type": "markdown",
   "metadata": {},
   "source": [
    "Loading the source indices"
   ]
  },
  {
   "cell_type": "code",
   "execution_count": 7,
   "metadata": {},
   "outputs": [],
   "source": [
    "pickle_out = open('Indices_Train_Val.pkl',\"rb\")\n",
    "temp = pickle.load(pickle_out) # indices of validation and test set\n",
    "pickle_out.close()\n",
    "# indices_array_train = temp[0]\n",
    "indices_array_Val = temp[1]\n",
    "# new_labels_train = temp[2]\n",
    "new_labels_Val = temp[3]"
   ]
  },
  {
   "cell_type": "markdown",
   "metadata": {},
   "source": [
    "Making the validation data for source class for sample-wise and class-wise stuff later"
   ]
  },
  {
   "cell_type": "code",
   "execution_count": 8,
   "metadata": {},
   "outputs": [],
   "source": [
    "data_file = h5py.File(os.path.join(path_to_data,filename), 'r') \n",
    "X_data = data_file['X']\n",
    "X_Val = np.zeros((indices_array_Val.shape[0],X_data.shape[1],X_data.shape[2]))\n",
    "for i in range(indices_array_Val.shape[0]):\n",
    "    X_Val[i,:,:] = X_data[indices_array_Val[i],:,:]\n",
    "y_Val = ut.convert_one_hot(new_labels_Val)"
   ]
  },
  {
   "cell_type": "markdown",
   "metadata": {},
   "source": [
    "Getting the target and support set"
   ]
  },
  {
   "cell_type": "code",
   "execution_count": 9,
   "metadata": {},
   "outputs": [],
   "source": [
    "X_supp = np.zeros((indices_array_supp.shape[0],X_data.shape[1],X_data.shape[2]))\n",
    "\n",
    "for i in range(indices_array_supp.shape[0]):\n",
    "    X_supp[i,:,:] = X_data[indices_array_supp[i],:,:]\n",
    "y_supp = ut.convert_one_hot(new_labels_supp)"
   ]
  },
  {
   "cell_type": "markdown",
   "metadata": {},
   "source": [
    " Model loading "
   ]
  },
  {
   "cell_type": "code",
   "execution_count": 33,
   "metadata": {},
   "outputs": [],
   "source": [
    "from keras.models import model_from_json\n",
    "from keras.backend.tensorflow_backend import set_session\n"
   ]
  },
  {
   "cell_type": "code",
   "execution_count": 34,
   "metadata": {},
   "outputs": [],
   "source": [
    "\n",
    "config = tf.ConfigProto()\n",
    "config.gpu_options.allow_growth = True  # dynamically grow the memory used on the GPU\n",
    "config.log_device_placement = True  # to log device placement (on which device the operation ran)\n",
    "sess = tf.Session(config=config)\n",
    "set_session(sess)\n",
    "\n"
   ]
  },
  {
   "cell_type": "code",
   "execution_count": 85,
   "metadata": {},
   "outputs": [],
   "source": [
    "modelPath = \"./models/\"\n",
    "modelName = \"Stacked_LSTM_classifier\"\n",
    "with open(os.path.join(modelPath, modelName+'.json'), 'r') as f:\n",
    "    source_model = keras.models.model_from_json(f.read())"
   ]
  },
  {
   "cell_type": "code",
   "execution_count": 86,
   "metadata": {},
   "outputs": [],
   "source": [
    "source_model.load_weights(os.path.join(modelPath, modelName+'2.wgt'))\n",
    "ad =keras.optimizers.Adam(lr = 0.01)\n",
    "source_model.compile(loss=keras.losses.CategoricalCrossentropy(), optimizer=ad, metrics=['acc'])"
   ]
  },
  {
   "cell_type": "code",
   "execution_count": 37,
   "metadata": {},
   "outputs": [
    {
     "name": "stdout",
     "output_type": "stream",
     "text": [
      "520/520 [==============================] - 3s 6ms/step\n"
     ]
    },
    {
     "data": {
      "text/plain": [
       "[0.06823588634053102, 0.9846153855323792]"
      ]
     },
     "execution_count": 37,
     "metadata": {},
     "output_type": "execute_result"
    }
   ],
   "source": [
    "# Checking if the laoded weights actually work on the validation set \n",
    "source_model.evaluate(X_Val,y_Val)"
   ]
  },
  {
   "cell_type": "code",
   "execution_count": 221,
   "metadata": {},
   "outputs": [
    {
     "data": {
      "text/plain": [
       "35"
      ]
     },
     "execution_count": 221,
     "metadata": {},
     "output_type": "execute_result"
    }
   ],
   "source": []
  },
  {
   "cell_type": "markdown",
   "metadata": {},
   "source": [
    "Sample-wise and Classwise Relavence"
   ]
  },
  {
   "cell_type": "code",
   "execution_count": 38,
   "metadata": {},
   "outputs": [],
   "source": [
    "num_features = source_model.layers[-3].predict(X_Val[0:1,:,:]).shape[1]\n",
    "samples_trg = indices_array_supp.shape[0]\n",
    "samples_src = X_Val.shape[0]"
   ]
  },
  {
   "cell_type": "code",
   "execution_count": 39,
   "metadata": {},
   "outputs": [],
   "source": [
    "features_src = source_model.layers[-3].predict(X_Val)\n",
    "features_trg = source_model.layers[-3].predict(X_supp)\n",
    "f_src_tilda = features_src/(np.linalg.norm(features_src,2,axis = 1))[:,None]\n",
    "f_trg_tilda = features_trg/(np.linalg.norm(features_trg,2,axis = 1))[:,None]"
   ]
  },
  {
   "cell_type": "code",
   "execution_count": 40,
   "metadata": {},
   "outputs": [],
   "source": [
    "# sample-wise\n",
    "A = np.zeros((samples_src,samples_trg))\n",
    "for i in range(samples_src):\n",
    "    for j in range(samples_trg):\n",
    "        A[i,j] = np.exp(np.dot(f_src_tilda[i,:],f_trg_tilda[j,:]))\n"
   ]
  },
  {
   "cell_type": "code",
   "execution_count": 41,
   "metadata": {},
   "outputs": [],
   "source": [
    "# Classwise\n",
    "Classwise_weights = ut.classwise_weights(src_act_array,trg_act_array,new_labels_Val,new_labels_supp,A)\n"
   ]
  },
  {
   "cell_type": "code",
   "execution_count": 87,
   "metadata": {},
   "outputs": [],
   "source": [
    "## Normalization\n",
    "# W = ut.soft_normalization(Classwise_weights)\n",
    "W = ut.hard_normalization(Classwise_weights)"
   ]
  },
  {
   "cell_type": "code",
   "execution_count": 74,
   "metadata": {},
   "outputs": [
    {
     "data": {
      "text/plain": [
       "(40, 26)"
      ]
     },
     "execution_count": 74,
     "metadata": {},
     "output_type": "execute_result"
    }
   ],
   "source": [
    "source_model.layers[-2].get_weights()[0].shape"
   ]
  },
  {
   "cell_type": "markdown",
   "metadata": {},
   "source": [
    "Setting up the knowledge transfer model"
   ]
  },
  {
   "cell_type": "code",
   "execution_count": 88,
   "metadata": {},
   "outputs": [],
   "source": [
    "# from keras.models import Sequential\n",
    "# model = Sequential()\n",
    "# model.add()\n",
    "# merged = keras.layers.Concatenate([merged,keras.layers.Activation(\"softmax\")])\n",
    "W_trg = keras.layers.Dense(W.shape[1],use_bias= False)(source_model.layers[-2].output)\n",
    "final_out = keras.layers.Activation('softmax')(W_trg)\n",
    "Final_model = keras.Model(inputs = source_model.inputs,outputs = final_out)"
   ]
  },
  {
   "cell_type": "code",
   "execution_count": 89,
   "metadata": {},
   "outputs": [],
   "source": [
    "Final_model.layers[-2].set_weights([W])"
   ]
  },
  {
   "cell_type": "code",
   "execution_count": 45,
   "metadata": {},
   "outputs": [
    {
     "name": "stdout",
     "output_type": "stream",
     "text": [
      "Model: \"model_1\"\n",
      "_________________________________________________________________\n",
      "Layer (type)                 Output Shape              Param #   \n",
      "=================================================================\n",
      "digits (InputLayer)          (None, 250, 117)          0         \n",
      "_________________________________________________________________\n",
      "sequential_4 (Sequential)    (None, 40)                226616    \n",
      "_________________________________________________________________\n",
      "dense_9 (Dense)              (None, 26)                1040      \n",
      "_________________________________________________________________\n",
      "dense_1 (Dense)              (None, 7)                 182       \n",
      "_________________________________________________________________\n",
      "activation_1 (Activation)    (None, 7)                 0         \n",
      "=================================================================\n",
      "Total params: 227,838\n",
      "Trainable params: 227,838\n",
      "Non-trainable params: 0\n",
      "_________________________________________________________________\n"
     ]
    }
   ],
   "source": [
    "Final_model.summary()"
   ]
  },
  {
   "cell_type": "code",
   "execution_count": 90,
   "metadata": {},
   "outputs": [],
   "source": [
    "ad =keras.optimizers.Adam(lr = 0.01)\n",
    "Final_model.compile(loss=keras.losses.CategoricalCrossentropy(), optimizer=ad, metrics=['acc'])\n",
    "from keras.callbacks import ModelCheckpoint\n",
    "checkpointer = ModelCheckpoint(filepath=os.path.join(modelPath,modelName+'target.wgt'), \n",
    "                                verbose=1, \n",
    "                                save_best_only=True,monitor = 'val_acc')"
   ]
  },
  {
   "cell_type": "code",
   "execution_count": 148,
   "metadata": {},
   "outputs": [],
   "source": [
    "# Setting up the number of shots\n",
    "number_shots = 5\n",
    "# if(shots == 1):\n",
    "unqiue_labels_supp = np.unique(new_labels_supp)\n",
    "final_indices = np.zeros(unqiue_labels_supp.shape[0]*number_shots)\n",
    "count = 0\n",
    "for item in unqiue_labels_supp:\n",
    "    indices = np.where(np.array(new_labels_supp) == item)\n",
    "    index = np.random.choice(indices[0],size = number_shots,replace = False)\n",
    "    final_indices[count:count+number_shots] = index[0:]\n",
    "    count = count+number_shots\n",
    "#     print(indices, index)\n",
    "final_indices = final_indices.astype(int)"
   ]
  },
  {
   "cell_type": "code",
   "execution_count": 91,
   "metadata": {
    "scrolled": true
   },
   "outputs": [
    {
     "name": "stdout",
     "output_type": "stream",
     "text": [
      "Train on 7 samples, validate on 7 samples\n",
      "Epoch 1/20\n",
      "7/7 [==============================] - 1s 191ms/step - loss: 8.7447 - acc: 0.2857 - val_loss: 2.4201 - val_acc: 0.4286\n",
      "\n",
      "Epoch 00001: val_acc improved from -inf to 0.42857, saving model to ./models/Stacked_LSTM_classifiertarget.wgt\n",
      "Epoch 2/20\n",
      "7/7 [==============================] - 1s 75ms/step - loss: 2.6008 - acc: 0.4286 - val_loss: 1.2060 - val_acc: 0.7143\n",
      "\n",
      "Epoch 00002: val_acc improved from 0.42857 to 0.71429, saving model to ./models/Stacked_LSTM_classifiertarget.wgt\n",
      "Epoch 3/20\n",
      "7/7 [==============================] - 1s 73ms/step - loss: 1.9227 - acc: 0.5714 - val_loss: 0.6286 - val_acc: 0.8571\n",
      "\n",
      "Epoch 00003: val_acc improved from 0.71429 to 0.85714, saving model to ./models/Stacked_LSTM_classifiertarget.wgt\n",
      "Epoch 4/20\n",
      "7/7 [==============================] - 1s 74ms/step - loss: 0.6752 - acc: 0.7143 - val_loss: 0.4410 - val_acc: 1.0000\n",
      "\n",
      "Epoch 00004: val_acc improved from 0.85714 to 1.00000, saving model to ./models/Stacked_LSTM_classifiertarget.wgt\n",
      "Epoch 5/20\n",
      "7/7 [==============================] - 1s 80ms/step - loss: 0.4910 - acc: 0.5714 - val_loss: 0.3898 - val_acc: 1.0000\n",
      "\n",
      "Epoch 00005: val_acc did not improve from 1.00000\n",
      "Epoch 6/20\n",
      "7/7 [==============================] - 1s 82ms/step - loss: 0.4724 - acc: 0.7143 - val_loss: 0.4732 - val_acc: 0.8571\n",
      "\n",
      "Epoch 00006: val_acc did not improve from 1.00000\n",
      "Epoch 7/20\n",
      "7/7 [==============================] - 1s 85ms/step - loss: 0.6747 - acc: 0.5714 - val_loss: 0.3709 - val_acc: 1.0000\n",
      "\n",
      "Epoch 00007: val_acc did not improve from 1.00000\n",
      "Epoch 8/20\n",
      "7/7 [==============================] - 1s 73ms/step - loss: 0.6265 - acc: 0.8571 - val_loss: 0.3260 - val_acc: 0.8571\n",
      "\n",
      "Epoch 00008: val_acc did not improve from 1.00000\n",
      "Epoch 9/20\n",
      "7/7 [==============================] - 1s 79ms/step - loss: 0.4135 - acc: 0.7143 - val_loss: 0.2181 - val_acc: 1.0000\n",
      "\n",
      "Epoch 00009: val_acc did not improve from 1.00000\n",
      "Epoch 10/20\n",
      "7/7 [==============================] - 0s 70ms/step - loss: 0.1886 - acc: 1.0000 - val_loss: 0.1831 - val_acc: 1.0000\n",
      "\n",
      "Epoch 00010: val_acc did not improve from 1.00000\n",
      "Epoch 11/20\n",
      "7/7 [==============================] - 1s 84ms/step - loss: 0.3706 - acc: 0.7143 - val_loss: 0.1572 - val_acc: 1.0000\n",
      "\n",
      "Epoch 00011: val_acc did not improve from 1.00000\n",
      "Epoch 12/20\n",
      "7/7 [==============================] - 1s 80ms/step - loss: 0.2001 - acc: 1.0000 - val_loss: 0.1339 - val_acc: 1.0000\n",
      "\n",
      "Epoch 00012: val_acc did not improve from 1.00000\n",
      "Epoch 13/20\n",
      "7/7 [==============================] - 1s 72ms/step - loss: 0.1536 - acc: 1.0000 - val_loss: 0.1118 - val_acc: 1.0000\n",
      "\n",
      "Epoch 00013: val_acc did not improve from 1.00000\n",
      "Epoch 14/20\n",
      "7/7 [==============================] - 1s 77ms/step - loss: 0.1162 - acc: 1.0000 - val_loss: 0.0973 - val_acc: 1.0000\n",
      "\n",
      "Epoch 00014: val_acc did not improve from 1.00000\n",
      "Epoch 15/20\n",
      "7/7 [==============================] - 0s 71ms/step - loss: 0.3140 - acc: 0.8571 - val_loss: 0.0608 - val_acc: 1.0000\n",
      "\n",
      "Epoch 00015: val_acc did not improve from 1.00000\n",
      "Epoch 16/20\n",
      "7/7 [==============================] - 1s 78ms/step - loss: 0.3580 - acc: 0.8571 - val_loss: 0.0372 - val_acc: 1.0000\n",
      "\n",
      "Epoch 00016: val_acc did not improve from 1.00000\n",
      "Epoch 17/20\n",
      "7/7 [==============================] - 1s 74ms/step - loss: 0.0875 - acc: 1.0000 - val_loss: 0.0263 - val_acc: 1.0000\n",
      "\n",
      "Epoch 00017: val_acc did not improve from 1.00000\n",
      "Epoch 18/20\n",
      "7/7 [==============================] - 0s 69ms/step - loss: 0.1989 - acc: 0.8571 - val_loss: 0.0158 - val_acc: 1.0000\n",
      "\n",
      "Epoch 00018: val_acc did not improve from 1.00000\n",
      "Epoch 19/20\n",
      "7/7 [==============================] - 1s 74ms/step - loss: 1.5065 - acc: 0.8571 - val_loss: 0.0118 - val_acc: 1.0000\n",
      "\n",
      "Epoch 00019: val_acc did not improve from 1.00000\n",
      "Epoch 20/20\n",
      "7/7 [==============================] - 1s 76ms/step - loss: 0.2155 - acc: 0.8571 - val_loss: 0.0107 - val_acc: 1.0000\n",
      "\n",
      "Epoch 00020: val_acc did not improve from 1.00000\n"
     ]
    },
    {
     "data": {
      "text/plain": [
       "<keras.callbacks.callbacks.History at 0x1d78651ffd0>"
      ]
     },
     "execution_count": 91,
     "metadata": {},
     "output_type": "execute_result"
    }
   ],
   "source": [
    "Final_model.fit(X_supp[final_indices,:,:],y_supp[final_indices,:],callbacks=[checkpointer],batch_size = 64,epochs=20, verbose=1,\n",
    "                    shuffle = \"batch\",validation_data = (X_supp[final_indices,:,:],y_supp[final_indices,:]))"
   ]
  },
  {
   "cell_type": "code",
   "execution_count": 51,
   "metadata": {},
   "outputs": [],
   "source": [
    "X_test = np.zeros((indices_array_test.shape[0],X_data.shape[1],X_data.shape[2]))\n",
    "\n",
    "for i in range(indices_array_test.shape[0]):\n",
    "    X_test[i,:,:] = X_data[indices_array_test[i],:,:]\n",
    "y_test = ut.convert_one_hot(new_labels_test)"
   ]
  },
  {
   "cell_type": "code",
   "execution_count": 92,
   "metadata": {},
   "outputs": [
    {
     "name": "stdout",
     "output_type": "stream",
     "text": [
      "2636/2636 [==============================] - 16s 6ms/step\n"
     ]
    },
    {
     "data": {
      "text/plain": [
       "[0.9516286665463484, 0.6122913360595703]"
      ]
     },
     "execution_count": 92,
     "metadata": {},
     "output_type": "execute_result"
    }
   ],
   "source": [
    "Final_model.load_weights(os.path.join(modelPath, modelName+'target.wgt'))\n",
    "ad =keras.optimizers.Adam(lr = 0.01)\n",
    "Final_model.compile(loss=keras.losses.CategoricalCrossentropy(), optimizer=ad, metrics=['acc'])\n",
    "Final_model.evaluate(X_test,y_test)"
   ]
  },
  {
   "cell_type": "code",
   "execution_count": 93,
   "metadata": {},
   "outputs": [],
   "source": [
    "out = Final_model.predict(X_test)"
   ]
  },
  {
   "cell_type": "code",
   "execution_count": 83,
   "metadata": {},
   "outputs": [],
   "source": [
    "from sklearn.metrics import confusion_matrix\n",
    "import seaborn as sn\n",
    "from matplotlib import pyplot as plt"
   ]
  },
  {
   "cell_type": "code",
   "execution_count": 94,
   "metadata": {},
   "outputs": [
    {
     "data": {
      "text/plain": [
       "Text(0.5, 1.0, 'Hard Normalization 1-shot')"
      ]
     },
     "execution_count": 94,
     "metadata": {},
     "output_type": "execute_result"
    },
    {
     "data": {
      "image/png": "[encoded data removed]",
      "text/plain": [
       "<Figure size 432x288 with 2 Axes>"
      ]
     },
     "metadata": {
      "needs_background": "light"
     },
     "output_type": "display_data"
    }
   ],
   "source": [
    "\n",
    "conf = confusion_matrix(y_test.argmax(axis=1), out.argmax(axis=1),normalize='true')\n",
    "sn.heatmap(conf, annot=True)\n",
    "plt.title(\"Hard Normalization 1-shot\")"
   ]
  },
  {
   "cell_type": "markdown",
   "metadata": {},
   "source": [
    "Source Features and then Softmax\n"
   ]
  },
  {
   "cell_type": "code",
   "execution_count": 114,
   "metadata": {},
   "outputs": [
    {
     "name": "stdout",
     "output_type": "stream",
     "text": [
      "Model: \"model_10\"\n",
      "_________________________________________________________________\n",
      "Layer (type)                 Output Shape              Param #   \n",
      "=================================================================\n",
      "digits (InputLayer)          (None, 250, 117)          0         \n",
      "_________________________________________________________________\n",
      "sequential_4 (Sequential)    (None, 40)                226616    \n",
      "_________________________________________________________________\n",
      "dense_9 (Dense)              (None, 26)                1040      \n",
      "_________________________________________________________________\n",
      "dense_10 (Dense)             (None, 7)                 182       \n",
      "_________________________________________________________________\n",
      "activation_10 (Activation)   (None, 7)                 0         \n",
      "=================================================================\n",
      "Total params: 227,838\n",
      "Trainable params: 227,838\n",
      "Non-trainable params: 0\n",
      "_________________________________________________________________\n"
     ]
    }
   ],
   "source": [
    "with open(os.path.join(modelPath, modelName+'.json'), 'r') as f:\n",
    "    source_model = keras.models.model_from_json(f.read())\n",
    "source_model.load_weights(os.path.join(modelPath, modelName+'2.wgt'))\n",
    "W_trg2 = keras.layers.Dense(W.shape[1],use_bias= False)(source_model.layers[-2].output)\n",
    "final_out = keras.layers.Activation('softmax')(W_trg2)\n",
    "Final_model = keras.Model(inputs = source_model.inputs,outputs = final_out)\n",
    "Final_model.summary()"
   ]
  },
  {
   "cell_type": "code",
   "execution_count": 115,
   "metadata": {},
   "outputs": [],
   "source": [
    "ad =keras.optimizers.Adam(lr = 0.01)\n",
    "Final_model.compile(loss=keras.losses.CategoricalCrossentropy(), optimizer=ad, metrics=['acc'])\n",
    "from keras.callbacks import ModelCheckpoint\n",
    "checkpointer = ModelCheckpoint(filepath=os.path.join(modelPath,modelName+'target.wgt'), \n",
    "                                verbose=1, \n",
    "                                save_best_only=True,monitor = 'val_acc')"
   ]
  },
  {
   "cell_type": "code",
   "execution_count": 116,
   "metadata": {},
   "outputs": [
    {
     "name": "stdout",
     "output_type": "stream",
     "text": [
      "Train on 7 samples, validate on 7 samples\n",
      "Epoch 1/20\n",
      "7/7 [==============================] - 2s 233ms/step - loss: 1.9108 - acc: 0.1429 - val_loss: 1.0992 - val_acc: 0.8571\n",
      "\n",
      "Epoch 00001: val_acc improved from -inf to 0.85714, saving model to ./models/Stacked_LSTM_classifiertarget.wgt\n",
      "Epoch 2/20\n",
      "7/7 [==============================] - 1s 74ms/step - loss: 1.5561 - acc: 0.4286 - val_loss: 0.6116 - val_acc: 0.8571\n",
      "\n",
      "Epoch 00002: val_acc did not improve from 0.85714\n",
      "Epoch 3/20\n",
      "7/7 [==============================] - 1s 77ms/step - loss: 1.1636 - acc: 0.7143 - val_loss: 1.4317 - val_acc: 0.5714\n",
      "\n",
      "Epoch 00003: val_acc did not improve from 0.85714\n",
      "Epoch 4/20\n",
      "7/7 [==============================] - 1s 79ms/step - loss: 1.4620 - acc: 0.5714 - val_loss: 0.1891 - val_acc: 1.0000\n",
      "\n",
      "Epoch 00004: val_acc improved from 0.85714 to 1.00000, saving model to ./models/Stacked_LSTM_classifiertarget.wgt\n",
      "Epoch 5/20\n",
      "7/7 [==============================] - 1s 75ms/step - loss: 0.4249 - acc: 1.0000 - val_loss: 0.3528 - val_acc: 0.8571\n",
      "\n",
      "Epoch 00005: val_acc did not improve from 1.00000\n",
      "Epoch 6/20\n",
      "7/7 [==============================] - 1s 73ms/step - loss: 0.4151 - acc: 0.7143 - val_loss: 0.2395 - val_acc: 0.8571\n",
      "\n",
      "Epoch 00006: val_acc did not improve from 1.00000\n",
      "Epoch 7/20\n",
      "7/7 [==============================] - 1s 73ms/step - loss: 0.5092 - acc: 0.8571 - val_loss: 0.0446 - val_acc: 1.0000\n",
      "\n",
      "Epoch 00007: val_acc did not improve from 1.00000\n",
      "Epoch 8/20\n",
      "7/7 [==============================] - 1s 72ms/step - loss: 0.0844 - acc: 1.0000 - val_loss: 0.0617 - val_acc: 1.0000\n",
      "\n",
      "Epoch 00008: val_acc did not improve from 1.00000\n",
      "Epoch 9/20\n",
      "7/7 [==============================] - 0s 71ms/step - loss: 0.1173 - acc: 1.0000 - val_loss: 0.0744 - val_acc: 1.0000\n",
      "\n",
      "Epoch 00009: val_acc did not improve from 1.00000\n",
      "Epoch 10/20\n",
      "7/7 [==============================] - 1s 72ms/step - loss: 0.3086 - acc: 0.8571 - val_loss: 0.1169 - val_acc: 1.0000\n",
      "\n",
      "Epoch 00010: val_acc did not improve from 1.00000\n",
      "Epoch 11/20\n",
      "7/7 [==============================] - 1s 72ms/step - loss: 0.0974 - acc: 1.0000 - val_loss: 0.0290 - val_acc: 1.0000\n",
      "\n",
      "Epoch 00011: val_acc did not improve from 1.00000\n",
      "Epoch 12/20\n",
      "7/7 [==============================] - 1s 74ms/step - loss: 0.3757 - acc: 0.7143 - val_loss: 0.4758 - val_acc: 0.8571\n",
      "\n",
      "Epoch 00012: val_acc did not improve from 1.00000\n",
      "Epoch 13/20\n",
      "7/7 [==============================] - 0s 70ms/step - loss: 0.3419 - acc: 0.8571 - val_loss: 0.4395 - val_acc: 0.8571\n",
      "\n",
      "Epoch 00013: val_acc did not improve from 1.00000\n",
      "Epoch 14/20\n",
      "7/7 [==============================] - 0s 69ms/step - loss: 0.6741 - acc: 0.7143 - val_loss: 0.0394 - val_acc: 1.0000\n",
      "\n",
      "Epoch 00014: val_acc did not improve from 1.00000\n",
      "Epoch 15/20\n",
      "7/7 [==============================] - 1s 76ms/step - loss: 0.4615 - acc: 0.8571 - val_loss: 0.0069 - val_acc: 1.0000\n",
      "\n",
      "Epoch 00015: val_acc did not improve from 1.00000\n",
      "Epoch 16/20\n",
      "7/7 [==============================] - 1s 72ms/step - loss: 0.0543 - acc: 1.0000 - val_loss: 0.0076 - val_acc: 1.0000\n",
      "\n",
      "Epoch 00016: val_acc did not improve from 1.00000\n",
      "Epoch 17/20\n",
      "7/7 [==============================] - 0s 71ms/step - loss: 0.1815 - acc: 0.8571 - val_loss: 0.0042 - val_acc: 1.0000\n",
      "\n",
      "Epoch 00017: val_acc did not improve from 1.00000\n",
      "Epoch 18/20\n",
      "7/7 [==============================] - 1s 79ms/step - loss: 0.0107 - acc: 1.0000 - val_loss: 0.0254 - val_acc: 1.0000\n",
      "\n",
      "Epoch 00018: val_acc did not improve from 1.00000\n",
      "Epoch 19/20\n",
      "7/7 [==============================] - 1s 74ms/step - loss: 3.2728 - acc: 0.5714 - val_loss: 0.1661 - val_acc: 0.8571\n",
      "\n",
      "Epoch 00019: val_acc did not improve from 1.00000\n",
      "Epoch 20/20\n",
      "7/7 [==============================] - 1s 89ms/step - loss: 1.9249 - acc: 0.8571 - val_loss: 0.0696 - val_acc: 1.0000\n",
      "\n",
      "Epoch 00020: val_acc did not improve from 1.00000\n"
     ]
    },
    {
     "data": {
      "text/plain": [
       "<keras.callbacks.callbacks.History at 0x1d7a0b18cf8>"
      ]
     },
     "execution_count": 116,
     "metadata": {},
     "output_type": "execute_result"
    }
   ],
   "source": [
    "Final_model.fit(X_supp[final_indices,:,:],y_supp[final_indices,:],batch_size = 64,epochs=20, verbose=1,\n",
    "                    shuffle = \"batch\",callbacks=[checkpointer],validation_data = (X_supp[final_indices,:,:],y_supp[final_indices,:]))"
   ]
  },
  {
   "cell_type": "code",
   "execution_count": 117,
   "metadata": {},
   "outputs": [
    {
     "name": "stdout",
     "output_type": "stream",
     "text": [
      "2636/2636 [==============================] - 17s 6ms/step\n"
     ]
    },
    {
     "data": {
      "text/plain": [
       "[1.842982197567617, 0.48558422923088074]"
      ]
     },
     "execution_count": 117,
     "metadata": {},
     "output_type": "execute_result"
    }
   ],
   "source": [
    "Final_model.load_weights(os.path.join(modelPath, modelName+'target.wgt'))\n",
    "ad =keras.optimizers.Adam(lr = 0.01)\n",
    "Final_model.compile(loss=keras.losses.CategoricalCrossentropy(), optimizer=ad, metrics=['acc'])\n",
    "Final_model.evaluate(X_test,y_test)"
   ]
  },
  {
   "cell_type": "markdown",
   "metadata": {},
   "source": [
    "Nearest Neighbor Classifier"
   ]
  },
  {
   "cell_type": "code",
   "execution_count": 242,
   "metadata": {},
   "outputs": [
    {
     "data": {
      "text/plain": [
       "(40, 35)"
      ]
     },
     "execution_count": 242,
     "metadata": {},
     "output_type": "execute_result"
    }
   ],
   "source": [
    "f_src_tilda.T.shape"
   ]
  },
  {
   "cell_type": "code",
   "execution_count": 141,
   "metadata": {},
   "outputs": [],
   "source": [
    "with open(os.path.join(modelPath, modelName+'.json'), 'r') as f:\n",
    "    source_model = keras.models.model_from_json(f.read())\n",
    "source_model.load_weights(os.path.join(modelPath, modelName+'2.wgt'))"
   ]
  },
  {
   "cell_type": "code",
   "execution_count": 149,
   "metadata": {},
   "outputs": [],
   "source": [
    "samples_trg = indices_array_test.shape[0]\n",
    "samples_src = final_indices.shape[0]\n",
    "features_src = source_model.layers[-3].predict(X_supp[final_indices,:,:])\n",
    "features_trg = source_model.layers[-3].predict(X_test)\n",
    "f_src_tilda = features_src/(np.linalg.norm(features_src,2,axis = 1))[:,None]\n",
    "f_trg_tilda = features_trg/(np.linalg.norm(features_trg,2,axis = 1))[:,None]\n",
    "# sample-wise\n",
    "# A = np.zeros((samples_src,samples_trg))\n",
    "# for i in range(samples_src):\n",
    "#     for j in range(samples_trg):\n",
    "#         A[i,j] = np.exp(np.dot(f_src_tilda[i,:],f_trg_tilda[j,:]))\n",
    "# Classwise_weights = ut.classwise_weights(trg_act_array,trg_act_array,new_labels_supp,new_labels_test,A)\n",
    "# W = ut.soft_normalization(Classwise_weights)\n"
   ]
  },
  {
   "cell_type": "code",
   "execution_count": 150,
   "metadata": {},
   "outputs": [
    {
     "data": {
      "text/plain": [
       "KNeighborsClassifier(n_neighbors=7)"
      ]
     },
     "execution_count": 150,
     "metadata": {},
     "output_type": "execute_result"
    }
   ],
   "source": [
    "from sklearn.neighbors import KNeighborsClassifier\n",
    "neigh = KNeighborsClassifier(n_neighbors=7)\n",
    "neigh.fit(f_src_tilda,new_labels_supp[final_indices])"
   ]
  },
  {
   "cell_type": "code",
   "execution_count": 151,
   "metadata": {},
   "outputs": [],
   "source": [
    "res = neigh.predict_proba(f_trg_tilda)"
   ]
  },
  {
   "cell_type": "code",
   "execution_count": 152,
   "metadata": {},
   "outputs": [],
   "source": [
    "uniques = np.unique(new_labels_supp[final_indices]),"
   ]
  },
  {
   "cell_type": "code",
   "execution_count": 153,
   "metadata": {},
   "outputs": [
    {
     "data": {
      "text/plain": [
       "0.8520485584218513"
      ]
     },
     "execution_count": 153,
     "metadata": {},
     "output_type": "execute_result"
    }
   ],
   "source": [
    "count = 0\n",
    "for i in range(res.shape[0]):\n",
    "    pred = uniques[0][np.argmax(res[i,:])]\n",
    "    truth = new_labels_test[i]\n",
    "#     print(i,pred,truth)\n",
    "    if(pred == truth):\n",
    "        count= count+1\n",
    "count/res.shape[0]"
   ]
  },
  {
   "cell_type": "code",
   "execution_count": null,
   "metadata": {},
   "outputs": [],
   "source": []
  },
  {
   "cell_type": "code",
   "execution_count": 154,
   "metadata": {},
   "outputs": [
    {
     "data": {
      "text/plain": [
       "0.8857142857142857"
      ]
     },
     "execution_count": 154,
     "metadata": {},
     "output_type": "execute_result"
    }
   ],
   "source": [
    "neigh.score(f_src_tilda,new_labels_supp[final_indices])"
   ]
  },
  {
   "cell_type": "code",
   "execution_count": 227,
   "metadata": {},
   "outputs": [
    {
     "data": {
      "text/plain": [
       "(35, 2636)"
      ]
     },
     "execution_count": 227,
     "metadata": {},
     "output_type": "execute_result"
    }
   ],
   "source": [
    "A.shape"
   ]
  },
  {
   "cell_type": "code",
   "execution_count": null,
   "metadata": {},
   "outputs": [],
   "source": []
  }
 ],
 "metadata": {
  "kernelspec": {
   "display_name": "tfgpu",
   "language": "python",
   "name": "tfgpu"
  },
  "language_info": {
   "codemirror_mode": {
    "name": "ipython",
    "version": 3
   },
   "file_extension": ".py",
   "mimetype": "text/x-python",
   "name": "python",
   "nbconvert_exporter": "python",
   "pygments_lexer": "ipython3",
   "version": "3.6.12"
  }
 },
 "nbformat": 4,
 "nbformat_minor": 4
}
